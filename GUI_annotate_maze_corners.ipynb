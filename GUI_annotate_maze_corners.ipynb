{
 "cells": [
  {
   "cell_type": "code",
   "execution_count": 1,
   "id": "ad84c6b6-8630-4c9f-8789-68234ae8d702",
   "metadata": {},
   "outputs": [],
   "source": [
    "%matplotlib inline\n",
    "\n",
    "import ipywidgets as widgets\n",
    "from ipywidgets import VBox, HBox, interactive\n",
    "import math\n",
    "import os\n",
    "import matplotlib.pyplot as plt\n",
    "import matplotlib.image as img\n",
    "import numpy as np\n",
    "import cv2\n",
    "import pickle"
   ]
  },
  {
   "cell_type": "markdown",
   "id": "d2770b2e-70d5-4549-a15c-dcd7c629ff09",
   "metadata": {},
   "source": [
    "# Specify the filepath"
   ]
  },
  {
   "cell_type": "code",
   "execution_count": 2,
   "id": "634ca8b4-213e-4a12-93f3-e4d46bc40917",
   "metadata": {},
   "outputs": [],
   "source": [
    "file_path = os.getcwd() + '/videos/'\n",
    "l_filenames = [elem for elem in os.listdir(file_path) if elem.endswith('.avi')]\n",
    "\n",
    "file_idx = 0\n",
    "filename = l_filenames[0]\n",
    "\n",
    "cap = cv2.VideoCapture(file_path + filename)\n",
    "ret, frame = cap.read()\n",
    "\n",
    "d_results = {}"
   ]
  },
  {
   "cell_type": "markdown",
   "id": "81ee85d0-85d6-477d-a00f-79c535fb339a",
   "metadata": {},
   "source": [
    "# Setup all functions and widgets"
   ]
  },
  {
   "cell_type": "code",
   "execution_count": 3,
   "id": "aac75999-7bf4-4a53-994c-15c0bbc1929a",
   "metadata": {},
   "outputs": [],
   "source": [
    "# Calculate the new coordinates after rotation\n",
    "def rotate(xy, theta):\n",
    "    # https://en.wikipedia.org/wiki/Rotation_matrix#In_two_dimensions\n",
    "    cos_theta, sin_theta = math.cos(theta), math.sin(theta)\n",
    "\n",
    "    return (\n",
    "        xy[0] * cos_theta - xy[1] * sin_theta,\n",
    "        xy[0] * sin_theta + xy[1] * cos_theta\n",
    "    )\n",
    "\n",
    "# Correct for the shift of the rectangle from (0, 0):\n",
    "def translate(xy, offset):\n",
    "    return xy[0] + offset[0], xy[1] + offset[1]\n",
    "\n",
    "\n",
    "# Function that will interactively plot the corners of the rectangle according to the values set by the user\n",
    "def f(x, y, length, width, degrees):\n",
    "    offset = (x, y)\n",
    "    corners = [(0, 0), (width, 0), (width, length), (0, length)]\n",
    "    rotated_and_shifted_corners = [translate(rotate(xy, math.radians(degrees)), offset) for xy in corners]\n",
    "\n",
    "    end_right_corner = list(rotated_and_shifted_corners[0]) + ['red']\n",
    "    end_left_corner = list(rotated_and_shifted_corners[1]) + ['orange']\n",
    "    start_left_corner = list(rotated_and_shifted_corners[2]) + ['cyan']\n",
    "    start_right_corner = list(rotated_and_shifted_corners[3]) + ['green']\n",
    "\n",
    "    fig = plt.figure(figsize=(18, 10))\n",
    "    gs = fig.add_gridspec(2, 4)\n",
    "\n",
    "    fig.add_subplot(gs[0:2, 0:2])\n",
    "    plt.imshow(frame)\n",
    "    plt.ylim(0,frame.shape[0])\n",
    "    plt.xlim(0,frame.shape[1])\n",
    "    \n",
    "    if filename in list(d_results.keys()):\n",
    "        saved_current = 'saved'\n",
    "    else:\n",
    "        saved_current = 'missing'\n",
    "    \n",
    "    plt.title('current file: {} (analysis {})'.format(filename, saved_current))\n",
    "\n",
    "    l_corners = [start_right_corner, start_left_corner, end_right_corner, end_left_corner]\n",
    "\n",
    "    for corner in l_corners:\n",
    "        plt.scatter(corner[0], corner[1], c=corner[2], s=100)\n",
    "\n",
    "    fig.add_subplot(gs[0, 2])\n",
    "    plt.imshow(frame)\n",
    "    plt.scatter(l_corners[0][0], l_corners[0][1], c=l_corners[0][2], s=100)\n",
    "    plt.xlim(l_corners[0][0]-25, l_corners[0][0]+25)\n",
    "    plt.ylim(l_corners[0][1]-25, l_corners[0][1]+25)\n",
    "    plt.title('start right corner')\n",
    "\n",
    "    fig.add_subplot(gs[0, 3])\n",
    "    plt.imshow(frame)\n",
    "    plt.scatter(l_corners[1][0], l_corners[1][1], c=l_corners[1][2], s=100)\n",
    "    plt.xlim(l_corners[1][0]-25, l_corners[1][0]+25)\n",
    "    plt.ylim(l_corners[1][1]-25, l_corners[1][1]+25)\n",
    "    plt.title('start left corner')\n",
    "\n",
    "    fig.add_subplot(gs[1, 2])\n",
    "    plt.imshow(frame)\n",
    "    plt.scatter(l_corners[2][0], l_corners[2][1], c=l_corners[2][2], s=100)\n",
    "    plt.xlim(l_corners[2][0]-25, l_corners[2][0]+25)\n",
    "    plt.ylim(l_corners[2][1]-25, l_corners[2][1]+25)\n",
    "    plt.title('end right corner')\n",
    "\n",
    "    fig.add_subplot(gs[1, 3])\n",
    "    plt.imshow(frame)\n",
    "    plt.scatter(l_corners[3][0], l_corners[3][1], c=l_corners[3][2], s=100)\n",
    "    plt.xlim(l_corners[3][0]-25, l_corners[3][0]+25)\n",
    "    plt.ylim(l_corners[3][1]-25, l_corners[3][1]+25)\n",
    "    plt.title('end left corner')\n",
    "\n",
    "    plt.show()\n",
    "\n",
    "  \n",
    "    \n",
    "    \n",
    "# What happens when load_next_button is clicked:\n",
    "def on_load_next_button_click(b):\n",
    "    global file_idx\n",
    "    global filename\n",
    "    global frame\n",
    "    file_idx = file_idx + 1\n",
    "    filename = l_filenames[file_idx]\n",
    "    cap = cv2.VideoCapture(file_path + filename)\n",
    "    ret, frame = cap.read()\n",
    "\n",
    "# What happens when load_next_button is clicked:\n",
    "def on_load_previous_button_click(b):\n",
    "    global file_idx\n",
    "    global filename\n",
    "    global frame\n",
    "    file_idx = file_idx - 1\n",
    "    filename = l_filenames[file_idx]\n",
    "    cap = cv2.VideoCapture(file_path + filename)\n",
    "    ret, frame = cap.read()\n",
    "\n",
    "# What happens when save_button is clicked:\n",
    "def on_save_button_click(b):\n",
    "    # Readout the settings made by the user:\n",
    "    d_results[filename] = {}\n",
    "    d_results[filename]['offset_x'] = interactive_plot.children[0].value\n",
    "    d_results[filename]['offset_y'] = interactive_plot.children[1].value\n",
    "    d_results[filename]['length'] = interactive_plot.children[2].value\n",
    "    d_results[filename]['width'] = interactive_plot.children[3].value\n",
    "    d_results[filename]['theta'] = math.radians(interactive_plot.children[4].value)\n",
    "    # Save the results:\n",
    "    with open('reference_coordinates.p', 'wb') as fp:\n",
    "        pickle.dump(d_results, fp, protocol=pickle.HIGHEST_PROTOCOL)\n",
    "    \n",
    "\n",
    "# Create the sliders\n",
    "slider_x = widgets.IntSlider(value=300, min=200, max=640, step=1, description='x offset')\n",
    "slider_y = widgets.IntSlider(value=5, min=0, max=480, step=1, description='y offset')\n",
    "slider_length = widgets.IntSlider(value=0, min=400, max=480, step=1)\n",
    "slider_width = widgets.IntSlider(value=20, min=0, max=50, step=1)\n",
    "slider_degrees = widgets.FloatSlider(value=0, min=0, max=45, step=0.1)\n",
    "\n",
    "# Create the interactive widget  \n",
    "interactive_plot = interactive(f, x=slider_x, y=slider_y, length=slider_length, width=slider_width, degrees=slider_degrees)\n",
    "\n",
    "# Specify the space that the output may use\n",
    "interactive_plot.children[-1].layout.height = '600px'\n",
    "\n",
    "\n",
    "\n",
    "\n",
    "# Create the buttons\n",
    "load_next_button = widgets.Button(description=\"Load next file\")\n",
    "save_button = widgets.Button(description=\"Save settings\")\n",
    "load_previous_button = widgets.Button(description=\"Load previous file\")\n",
    "\n",
    "load_next_button.on_click(on_load_next_button_click)\n",
    "load_previous_button.on_click(on_load_previous_button_click)\n",
    "save_button.on_click(on_save_button_click)\n",
    "\n",
    "\n",
    "\n",
    "# Define how the buttons and sliders shall be arranged\n",
    "col0 = VBox([load_next_button, save_button])\n",
    "col1 = VBox([interactive_plot.children[0], interactive_plot.children[1]])\n",
    "col2 = VBox([interactive_plot.children[2], interactive_plot.children[3]])\n",
    "col3 = VBox([interactive_plot.children[4], load_previous_button])\n",
    "box = HBox([col0, col1, col2, col3])"
   ]
  },
  {
   "cell_type": "markdown",
   "id": "d55c6098-cb19-441d-9d3a-f8e594f722e2",
   "metadata": {},
   "source": [
    "# Run the widget to process all files"
   ]
  },
  {
   "cell_type": "code",
   "execution_count": 4,
   "id": "6db5fde4-b7ef-4989-a6e6-ff2535f1cb42",
   "metadata": {},
   "outputs": [
    {
     "data": {
      "application/vnd.jupyter.widget-view+json": {
       "model_id": "b18c324bc32a424d9262505c93e0635a",
       "version_major": 2,
       "version_minor": 0
      },
      "text/plain": [
       "HBox(children=(VBox(children=(Button(description='Load next file', style=ButtonStyle()), Button(description='S…"
      ]
     },
     "metadata": {},
     "output_type": "display_data"
    },
    {
     "data": {
      "application/vnd.jupyter.widget-view+json": {
       "model_id": "90431ea97d9d4fd5a286ad0787052822",
       "version_major": 2,
       "version_minor": 0
      },
      "text/plain": [
       "Output(layout=Layout(height='600px'))"
      ]
     },
     "metadata": {},
     "output_type": "display_data"
    }
   ],
   "source": [
    "display(box, interactive_plot.children[-1])"
   ]
  },
  {
   "cell_type": "code",
   "execution_count": 5,
   "id": "e6024c7b-539b-4507-bb18-505ff6e12fcb",
   "metadata": {},
   "outputs": [
    {
     "data": {
      "text/plain": [
       "{'OpenTrack-210505_274_C1_Vid1.avi': {'offset_x': 319,\n",
       "  'offset_y': 1,\n",
       "  'length': 434,\n",
       "  'width': 26,\n",
       "  'theta': 0.015707963267948967}}"
      ]
     },
     "execution_count": 5,
     "metadata": {},
     "output_type": "execute_result"
    }
   ],
   "source": [
    "d_results"
   ]
  },
  {
   "cell_type": "code",
   "execution_count": null,
   "id": "4f3f10c5-2fb0-4ced-949a-c7afbe95d005",
   "metadata": {},
   "outputs": [],
   "source": []
  }
 ],
 "metadata": {
  "kernelspec": {
   "display_name": "Python 3 (vanilla)",
   "language": "python",
   "name": "vanilla"
  },
  "language_info": {
   "codemirror_mode": {
    "name": "ipython",
    "version": 3
   },
   "file_extension": ".py",
   "mimetype": "text/x-python",
   "name": "python",
   "nbconvert_exporter": "python",
   "pygments_lexer": "ipython3",
   "version": "3.9.6"
  }
 },
 "nbformat": 4,
 "nbformat_minor": 5
}
