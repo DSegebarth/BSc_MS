{
 "cells": [
  {
   "cell_type": "code",
   "execution_count": 76,
   "metadata": {},
   "outputs": [],
   "source": [
    "# imports\n",
    "import pandas as pd\n",
    "import numpy as np\n",
    "import matplotlib.pyplot as plt\n",
    "from sklearn.linear_model import LinearRegression"
   ]
  },
  {
   "cell_type": "code",
   "execution_count": 83,
   "metadata": {},
   "outputs": [],
   "source": [
    "def get_regression(y):\n",
    "    \"\"\"Calculate linear regression specifically for three data points\"\"\"\n",
    "    x= np.array([1,2,3]).reshape((-1, 1))\n",
    "    model = LinearRegression().fit(x, y)\n",
    "    r_sq = model.score(x, y)\n",
    "    print('coefficient of determination (r-squared): ', r_sq)\n",
    "    print('0 schnitt:', model.intercept_)\n",
    "    print('steigung:', model.coef_)"
   ]
  },
  {
   "cell_type": "code",
   "execution_count": 131,
   "metadata": {},
   "outputs": [],
   "source": [
    "def plot_reg(a,b, data, color):\n",
    "    \"\"\"Plot linear regression based on previously calculated values\"\"\"\n",
    "    s = np.array([0,41,2,3,4])\n",
    "    y = a*s + b\n",
    "\n",
    "    #Merge:\n",
    "    plt.scatter(trial, data, color = color, s =20)\n",
    "    plt.axis([0,4, 0,35])\n",
    "    plt.plot(s, y, color = color, linewidth = 2)"
   ]
  },
  {
   "cell_type": "code",
   "execution_count": 77,
   "metadata": {},
   "outputs": [],
   "source": [
    "# loading data\n",
    "path = \n",
    "filename = \n",
    "df = pd.read_excel(path + filename)"
   ]
  },
  {
   "cell_type": "code",
   "execution_count": 78,
   "metadata": {},
   "outputs": [
    {
     "data": {
      "text/html": [
       "<div>\n",
       "<style scoped>\n",
       "    .dataframe tbody tr th:only-of-type {\n",
       "        vertical-align: middle;\n",
       "    }\n",
       "\n",
       "    .dataframe tbody tr th {\n",
       "        vertical-align: top;\n",
       "    }\n",
       "\n",
       "    .dataframe thead th {\n",
       "        text-align: right;\n",
       "    }\n",
       "</style>\n",
       "<table border=\"1\" class=\"dataframe\">\n",
       "  <thead>\n",
       "    <tr style=\"text-align: right;\">\n",
       "      <th></th>\n",
       "      <th>trialnumber</th>\n",
       "      <th>exponential</th>\n",
       "      <th>triangle</th>\n",
       "      <th>rectangle</th>\n",
       "      <th>sh_rectangle</th>\n",
       "      <th>trial</th>\n",
       "    </tr>\n",
       "  </thead>\n",
       "  <tbody>\n",
       "    <tr>\n",
       "      <th>0</th>\n",
       "      <td>trial1</td>\n",
       "      <td>23.609822</td>\n",
       "      <td>23.480331</td>\n",
       "      <td>27.556430</td>\n",
       "      <td>22.582675</td>\n",
       "      <td>1</td>\n",
       "    </tr>\n",
       "    <tr>\n",
       "      <th>1</th>\n",
       "      <td>trial2</td>\n",
       "      <td>16.086991</td>\n",
       "      <td>17.514683</td>\n",
       "      <td>20.152437</td>\n",
       "      <td>19.088252</td>\n",
       "      <td>2</td>\n",
       "    </tr>\n",
       "    <tr>\n",
       "      <th>2</th>\n",
       "      <td>trial3</td>\n",
       "      <td>13.110902</td>\n",
       "      <td>17.251669</td>\n",
       "      <td>16.579920</td>\n",
       "      <td>15.638075</td>\n",
       "      <td>3</td>\n",
       "    </tr>\n",
       "  </tbody>\n",
       "</table>\n",
       "</div>"
      ],
      "text/plain": [
       "  trialnumber  exponential   triangle  rectangle  sh_rectangle  trial\n",
       "0      trial1    23.609822  23.480331  27.556430     22.582675      1\n",
       "1      trial2    16.086991  17.514683  20.152437     19.088252      2\n",
       "2      trial3    13.110902  17.251669  16.579920     15.638075      3"
      ]
     },
     "execution_count": 78,
     "metadata": {},
     "output_type": "execute_result"
    }
   ],
   "source": [
    "df"
   ]
  },
  {
   "cell_type": "code",
   "execution_count": 4,
   "metadata": {},
   "outputs": [],
   "source": [
    "# defining sub_dfs\n",
    "exp = df['exponential']\n",
    "tri = df['triangle']\n",
    "rect = df['rectangle']\n",
    "shrect = df['sh_rectangle']\n",
    "trial = df['trial']"
   ]
  },
  {
   "cell_type": "code",
   "execution_count": 126,
   "metadata": {},
   "outputs": [
    {
     "name": "stdout",
     "output_type": "stream",
     "text": [
      "coefficient of determination (r-squared):  0.9411624061477433\n",
      "0 schnitt: 28.101491229861264\n",
      "steigung: [-5.24945986]\n"
     ]
    }
   ],
   "source": [
    "get_regression(exp)"
   ]
  },
  {
   "cell_type": "code",
   "execution_count": 127,
   "metadata": {},
   "outputs": [
    {
     "name": "stdout",
     "output_type": "stream",
     "text": [
      "coefficient of determination (r-squared):  0.7816110069626637\n",
      "0 schnitt: 25.644223638670876\n",
      "steigung: [-3.11433128]\n"
     ]
    }
   ],
   "source": [
    "get_regression(tri)"
   ]
  },
  {
   "cell_type": "code",
   "execution_count": 128,
   "metadata": {},
   "outputs": [
    {
     "name": "stdout",
     "output_type": "stream",
     "text": [
      "coefficient of determination (r-squared):  0.9609705378742565\n",
      "0 schnitt: 32.406104978205086\n",
      "steigung: [-5.48825478]\n"
     ]
    }
   ],
   "source": [
    "get_regression(rect)"
   ]
  },
  {
   "cell_type": "code",
   "execution_count": 129,
   "metadata": {},
   "outputs": [
    {
     "name": "stdout",
     "output_type": "stream",
     "text": [
      "coefficient of determination (r-squared):  0.9999864690583992\n",
      "0 schnitt: 26.04760082900634\n",
      "steigung: [-3.47230014]\n"
     ]
    }
   ],
   "source": [
    "get_regression(shrect)"
   ]
  },
  {
   "cell_type": "code",
   "execution_count": 153,
   "metadata": {},
   "outputs": [
    {
     "data": {
      "image/png": "[encoded data removed]",
      "text/plain": [
       "<Figure size 576x540 with 1 Axes>"
      ]
     },
     "metadata": {
      "needs_background": "light"
     },
     "output_type": "display_data"
    }
   ],
   "source": [
    "# plotting\n",
    "plt.figure(figsize=(8, 7.5))\n",
    "\n",
    "plot_reg(-5.24945986, 28.101491229861264, exp, 'darkblue')\n",
    "\n",
    "plot_reg(-3.11433128, 25.644223638670876, tri, 'dodgerblue')\n",
    "\n",
    "plot_reg(-5.48825478, 32.406104978205086, rect, 'forestgreen')\n",
    "\n",
    "plot_reg(-3.47230014, 26.04760082900634, shrect, 'lime')\n",
    "\n",
    "plt.rc ('font', size = 10)\n",
    "plt.rc ('axes', labelsize = 10) # Schriftgröße der x- und y-Beschriftungen\n",
    "plt.rc ('xtick', labelsize = 10) #Schriftgröße der x-Tick-Labels\n",
    "plt.rc ('ytick', labelsize = 10) #Schriftgröße der y-Tick-Labels\n",
    "plt.axis([0.7,3.3, 10, 30])\n",
    "plt.xticks((1, 2, 3), ('Trial 1', 'Trial 2', 'Trial 3'))\n"
   ]
  },
  {
   "cell_type": "code",
   "execution_count": null,
   "metadata": {},
   "outputs": [],
   "source": []
  }
 ],
 "metadata": {
  "kernelspec": {
   "display_name": "Python 3",
   "language": "python",
   "name": "python3"
  },
  "language_info": {
   "codemirror_mode": {
    "name": "ipython",
    "version": 3
   },
   "file_extension": ".py",
   "mimetype": "text/x-python",
   "name": "python",
   "nbconvert_exporter": "python",
   "pygments_lexer": "ipython3",
   "version": "3.8.5"
  }
 },
 "nbformat": 4,
 "nbformat_minor": 4
}
