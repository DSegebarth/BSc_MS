{
 "cells": [
  {
   "cell_type": "code",
   "execution_count": 1,
   "metadata": {},
   "outputs": [],
   "source": [
    "import matplotlib.pyplot as plt\n",
    "import pandas as pd\n",
    "import statistics\n",
    "import numpy as np"
   ]
  },
  {
   "cell_type": "code",
   "execution_count": 2,
   "metadata": {},
   "outputs": [],
   "source": [
    "path = \n",
    "filename = \n",
    "fullname = path + filename"
   ]
  },
  {
   "cell_type": "code",
   "execution_count": 3,
   "metadata": {},
   "outputs": [],
   "source": [
    "df = pd.read_csv(fullname, index_col=0)"
   ]
  },
  {
   "cell_type": "code",
   "execution_count": 4,
   "metadata": {},
   "outputs": [],
   "source": [
    "l_mouseID = list(set(list(df['mouse_ID'])))\n",
    "l_mazetype = list(set(list(df['mazetype'])))"
   ]
  },
  {
   "cell_type": "code",
   "execution_count": 5,
   "metadata": {},
   "outputs": [],
   "source": [
    "d_mice = {}"
   ]
  },
  {
   "cell_type": "code",
   "execution_count": 6,
   "metadata": {},
   "outputs": [],
   "source": [
    "for mouse in l_mouseID:\n",
    "    d_mice[mouse] = {}\n",
    "    d_mice[mouse]= df.loc[df['mouse_ID']  == mouse]"
   ]
  },
  {
   "cell_type": "code",
   "execution_count": 7,
   "metadata": {},
   "outputs": [],
   "source": [
    "l_exponential_mode = []\n",
    "l_triangle_mode = []\n",
    "l_rectangle_mode = []\n",
    "l_shrectangle_mode = []\n",
    "l_bins = []"
   ]
  },
  {
   "cell_type": "code",
   "execution_count": 8,
   "metadata": {},
   "outputs": [],
   "source": [
    "def create_bins(start, end, steps):\n",
    "    l_bins.append(0)\n",
    "    for elem in range(start,end):\n",
    "        value = elem-steps\n",
    "        l_bins.append(value)\n",
    "        l_bins.append(elem)\n",
    "    l_bins.append(50)\n",
    "    return l_bins"
   ]
  },
  {
   "cell_type": "code",
   "execution_count": 9,
   "metadata": {},
   "outputs": [],
   "source": [
    "def bin_data(df):\n",
    "        df['bin'] = pd.cut(df['gaitdisruption_bout_mean_y_norm_cm'], bins = l_bins)"
   ]
  },
  {
   "cell_type": "code",
   "execution_count": null,
   "metadata": {},
   "outputs": [],
   "source": [
    "def calculate_mode(df):\n",
    "     l_temp = set(df_temp['bin'])\n",
    "    #modus berechnen\n",
    "    modus = max(l_temp, key = l_temp.count)"
   ]
  },
  {
   "cell_type": "code",
   "execution_count": 70,
   "metadata": {},
   "outputs": [
    {
     "name": "stdout",
     "output_type": "stream",
     "text": [
      "yes\n"
     ]
    }
   ],
   "source": [
    "create_bins(1,50,0.5)\n",
    "print('bins created!')"
   ]
  },
  {
   "cell_type": "code",
   "execution_count": 14,
   "metadata": {},
   "outputs": [
    {
     "ename": "AttributeError",
     "evalue": "module 'statistics' has no attribute 'multimode'",
     "output_type": "error",
     "traceback": [
      "\u001b[1;31m---------------------------------------------------------------------------\u001b[0m",
      "\u001b[1;31mAttributeError\u001b[0m                            Traceback (most recent call last)",
      "\u001b[1;32m<ipython-input-14-2bc9e7260e32>\u001b[0m in \u001b[0;36m<module>\u001b[1;34m\u001b[0m\n\u001b[0;32m     10\u001b[0m     \u001b[0ml_temp\u001b[0m \u001b[1;33m=\u001b[0m \u001b[0mset\u001b[0m\u001b[1;33m(\u001b[0m\u001b[0mdf_temp\u001b[0m\u001b[1;33m[\u001b[0m\u001b[1;34m'bin'\u001b[0m\u001b[1;33m]\u001b[0m\u001b[1;33m)\u001b[0m\u001b[1;33m\u001b[0m\u001b[1;33m\u001b[0m\u001b[0m\n\u001b[0;32m     11\u001b[0m     \u001b[1;31m#modus berechnen\u001b[0m\u001b[1;33m\u001b[0m\u001b[1;33m\u001b[0m\u001b[1;33m\u001b[0m\u001b[0m\n\u001b[1;32m---> 12\u001b[1;33m     \u001b[0mmodus\u001b[0m \u001b[1;33m=\u001b[0m \u001b[0mstatistics\u001b[0m\u001b[1;33m.\u001b[0m\u001b[0mmultimode\u001b[0m\u001b[1;33m(\u001b[0m\u001b[0ml_temp\u001b[0m\u001b[1;33m)\u001b[0m\u001b[1;33m\u001b[0m\u001b[1;33m\u001b[0m\u001b[0m\n\u001b[0m\u001b[0;32m     13\u001b[0m     \u001b[0ml_exponential_mode\u001b[0m\u001b[1;33m.\u001b[0m\u001b[0mappend\u001b[0m\u001b[1;33m(\u001b[0m\u001b[0mmodus\u001b[0m\u001b[1;33m)\u001b[0m\u001b[1;33m\u001b[0m\u001b[1;33m\u001b[0m\u001b[0m\n",
      "\u001b[1;31mAttributeError\u001b[0m: module 'statistics' has no attribute 'multimode'"
     ]
    }
   ],
   "source": [
    "for mouse in l_mouseID:\n",
    "    # slice data\n",
    "    df_temp = d_mice[mouse].loc[d_mice[mouse]['mazetype'] =='exponential']\n",
    "\n",
    "    #df_temp = d_mice[mouse].loc[(d_mice[mouse]['mazetype'] =='exponential'), d_mice[mouse]['gaitdisruption_bout_mean_y_norm_cm'] > 15]\n",
    "    df_temp = df_temp.loc[df_temp['gaitdisruption_bout_mean_y_norm_cm'] >15]\n",
    "    #binning to 0.5cm\n",
    "    bin_data(df_temp)\n",
    "    l_temp = set(df_temp['bin'])\n",
    "    #calculate mode\n",
    "    modus = statistics.multimode(l_temp)\n",
    "    l_exponential_mode.append(modus)"
   ]
  },
  {
   "cell_type": "code",
   "execution_count": null,
   "metadata": {},
   "outputs": [],
   "source": [
    "    modus = statistics.mode(l_temp)\n",
    "    #modue liste hinzufügen\n",
    "    l_exponential_mode.append(modus)"
   ]
  },
  {
   "cell_type": "code",
   "execution_count": null,
   "metadata": {},
   "outputs": [],
   "source": [
    "     l_temp = set(df_temp['bin'])\n",
    "    #modus berechnen\n",
    "    modus = max(l_temp, key = l_temp.count)"
   ]
  },
  {
   "cell_type": "code",
   "execution_count": 74,
   "metadata": {},
   "outputs": [
    {
     "data": {
      "text/plain": [
       "[Interval(21.5, 22.0, closed='right'),\n",
       " Interval(36.0, 36.5, closed='right'),\n",
       " Interval(21.5, 22.0, closed='right'),\n",
       " Interval(33.0, 33.5, closed='right'),\n",
       " Interval(21.5, 22.0, closed='right'),\n",
       " Interval(20.0, 20.5, closed='right'),\n",
       " Interval(26.5, 27.0, closed='right'),\n",
       " Interval(33.0, 33.5, closed='right'),\n",
       " Interval(33.0, 33.5, closed='right'),\n",
       " Interval(36.0, 36.5, closed='right'),\n",
       " Interval(33.0, 33.5, closed='right'),\n",
       " Interval(19.5, 20.0, closed='right')]"
      ]
     },
     "execution_count": 74,
     "metadata": {},
     "output_type": "execute_result"
    }
   ],
   "source": [
    "l_exponential_mode"
   ]
  },
  {
   "cell_type": "code",
   "execution_count": 75,
   "metadata": {},
   "outputs": [],
   "source": [
    "for mouse in l_mouseID:\n",
    "    df_temp = d_mice[mouse].loc[d_mice[mouse]['mazetype'] =='triangle']\n",
    "    df_temp = df_temp.loc[df_temp['gaitdisruption_bout_mean_y_norm_cm'] >15.5]\n",
    "    \n",
    "    #runden auf 0,5cm, evtl sind 0,25 besser\n",
    "    bin_data(df_temp)\n",
    "    #liste mit values erstellen\n",
    "    l_temp = set(df_temp['bin'])\n",
    "    modus = statistics.mode(l_temp)\n",
    "    l_triangle_mode.append(modus)"
   ]
  },
  {
   "cell_type": "code",
   "execution_count": 76,
   "metadata": {},
   "outputs": [],
   "source": [
    "for mouse in l_mouseID:\n",
    "    df_temp = d_mice[mouse].loc[d_mice[mouse]['mazetype'] =='rectangle']\n",
    "    if df_temp['gaitdisruption_bout_mean_y_norm_cm'].empty:\n",
    "\n",
    "        continue\n",
    "    else:\n",
    "        df_temp = df_temp.loc[df_temp['gaitdisruption_bout_mean_y_norm_cm'] >15.5]\n",
    "\n",
    "        #runden auf 0,5cm, evtl sind 0,25 besser\n",
    "        bin_data(df_temp)\n",
    "        #liste mit values erstellen\n",
    "        l_temp = set(df_temp['bin'])\n",
    "        modus = statistics.mode(l_temp)\n",
    "        l_rectangle_mode.append(modus)"
   ]
  },
  {
   "cell_type": "code",
   "execution_count": 78,
   "metadata": {},
   "outputs": [],
   "source": [
    "for mouse in l_mouseID:\n",
    "    df_temp = d_mice[mouse].loc[d_mice[mouse]['mazetype'] =='shortened_rectangle']\n",
    "    if df_temp['gaitdisruption_bout_mean_y_norm_cm'].empty:\n",
    "\n",
    "        continue\n",
    "    else:\n",
    "        df_temp = df_temp.loc[df_temp['gaitdisruption_bout_mean_y_norm_cm'] >15.5]\n",
    "        #runden auf 0,5cm, evtl sind 0,25 besser\n",
    "        bin_data(df_temp)\n",
    "        #liste mit values erstellen\n",
    "        l_temp = set(df_temp['bin'])\n",
    "        modus = statistics.mode(l_temp)\n",
    "        l_shrectangle_mode.append(modus)"
   ]
  },
  {
   "cell_type": "code",
   "execution_count": 79,
   "metadata": {},
   "outputs": [
    {
     "data": {
      "text/plain": [
       "[Interval(33.0, 33.5, closed='right'),\n",
       " Interval(20.0, 20.5, closed='right'),\n",
       " Interval(18.0, 18.5, closed='right'),\n",
       " Interval(26.5, 27.0, closed='right'),\n",
       " Interval(18.0, 18.5, closed='right'),\n",
       " Interval(18.0, 18.5, closed='right'),\n",
       " Interval(17.0, 17.5, closed='right'),\n",
       " Interval(17.0, 17.5, closed='right'),\n",
       " Interval(21.5, 22.0, closed='right'),\n",
       " Interval(33.0, 33.5, closed='right'),\n",
       " Interval(24.0, 24.5, closed='right')]"
      ]
     },
     "execution_count": 79,
     "metadata": {},
     "output_type": "execute_result"
    }
   ],
   "source": [
    "l_shrectangle_mode"
   ]
  },
  {
   "cell_type": "code",
   "execution_count": 12,
   "metadata": {},
   "outputs": [],
   "source": [
    "# create df to save modes\n",
    "modes_df= pd.DataFrame((l_exponential_mode, l_triangle_mode, l_rectangle_mode,  l_shrectangle_mode, l_mouseID), index = ['exponential', 'triangle', 'rectangle', 'shortened_rectangle', 'mouseID']).T"
   ]
  },
  {
   "cell_type": "code",
   "execution_count": 20,
   "metadata": {
    "scrolled": true
   },
   "outputs": [
    {
     "data": {
      "text/html": [
       "<div>\n",
       "<style scoped>\n",
       "    .dataframe tbody tr th:only-of-type {\n",
       "        vertical-align: middle;\n",
       "    }\n",
       "\n",
       "    .dataframe tbody tr th {\n",
       "        vertical-align: top;\n",
       "    }\n",
       "\n",
       "    .dataframe thead th {\n",
       "        text-align: right;\n",
       "    }\n",
       "</style>\n",
       "<table border=\"1\" class=\"dataframe\">\n",
       "  <thead>\n",
       "    <tr style=\"text-align: right;\">\n",
       "      <th></th>\n",
       "      <th>exponential</th>\n",
       "      <th>triangle</th>\n",
       "      <th>rectangle</th>\n",
       "      <th>shortened_rectangle</th>\n",
       "      <th>mouseID</th>\n",
       "    </tr>\n",
       "  </thead>\n",
       "  <tbody>\n",
       "    <tr>\n",
       "      <th>0</th>\n",
       "      <td>17.0</td>\n",
       "      <td>35.5</td>\n",
       "      <td>34.5</td>\n",
       "      <td>33.5</td>\n",
       "      <td>273.0</td>\n",
       "    </tr>\n",
       "    <tr>\n",
       "      <th>1</th>\n",
       "      <td>33.0</td>\n",
       "      <td>32.5</td>\n",
       "      <td>35.5</td>\n",
       "      <td>15.5</td>\n",
       "      <td>274.0</td>\n",
       "    </tr>\n",
       "    <tr>\n",
       "      <th>2</th>\n",
       "      <td>32.0</td>\n",
       "      <td>32.5</td>\n",
       "      <td>34.5</td>\n",
       "      <td>16.5</td>\n",
       "      <td>276.0</td>\n",
       "    </tr>\n",
       "    <tr>\n",
       "      <th>3</th>\n",
       "      <td>33.0</td>\n",
       "      <td>33.0</td>\n",
       "      <td>34.0</td>\n",
       "      <td>32.0</td>\n",
       "      <td>277.0</td>\n",
       "    </tr>\n",
       "    <tr>\n",
       "      <th>4</th>\n",
       "      <td>32.0</td>\n",
       "      <td>33.0</td>\n",
       "      <td>NaN</td>\n",
       "      <td>27.5</td>\n",
       "      <td>278.0</td>\n",
       "    </tr>\n",
       "    <tr>\n",
       "      <th>5</th>\n",
       "      <td>15.5</td>\n",
       "      <td>32.5</td>\n",
       "      <td>31.0</td>\n",
       "      <td>NaN</td>\n",
       "      <td>279.0</td>\n",
       "    </tr>\n",
       "    <tr>\n",
       "      <th>6</th>\n",
       "      <td>34.0</td>\n",
       "      <td>32.0</td>\n",
       "      <td>33.5</td>\n",
       "      <td>18.0</td>\n",
       "      <td>280.0</td>\n",
       "    </tr>\n",
       "    <tr>\n",
       "      <th>7</th>\n",
       "      <td>33.5</td>\n",
       "      <td>32.0</td>\n",
       "      <td>32.5</td>\n",
       "      <td>32.5</td>\n",
       "      <td>282.0</td>\n",
       "    </tr>\n",
       "    <tr>\n",
       "      <th>8</th>\n",
       "      <td>32.0</td>\n",
       "      <td>32.5</td>\n",
       "      <td>33.0</td>\n",
       "      <td>16.5</td>\n",
       "      <td>283.0</td>\n",
       "    </tr>\n",
       "    <tr>\n",
       "      <th>9</th>\n",
       "      <td>36.0</td>\n",
       "      <td>32.5</td>\n",
       "      <td>34.5</td>\n",
       "      <td>35.5</td>\n",
       "      <td>285.0</td>\n",
       "    </tr>\n",
       "    <tr>\n",
       "      <th>10</th>\n",
       "      <td>32.0</td>\n",
       "      <td>33.5</td>\n",
       "      <td>34.0</td>\n",
       "      <td>32.0</td>\n",
       "      <td>286.0</td>\n",
       "    </tr>\n",
       "    <tr>\n",
       "      <th>11</th>\n",
       "      <td>32.5</td>\n",
       "      <td>32.0</td>\n",
       "      <td>34.5</td>\n",
       "      <td>34.0</td>\n",
       "      <td>287.0</td>\n",
       "    </tr>\n",
       "  </tbody>\n",
       "</table>\n",
       "</div>"
      ],
      "text/plain": [
       "    exponential  triangle  rectangle  shortened_rectangle  mouseID\n",
       "0          17.0      35.5       34.5                 33.5    273.0\n",
       "1          33.0      32.5       35.5                 15.5    274.0\n",
       "2          32.0      32.5       34.5                 16.5    276.0\n",
       "3          33.0      33.0       34.0                 32.0    277.0\n",
       "4          32.0      33.0        NaN                 27.5    278.0\n",
       "5          15.5      32.5       31.0                  NaN    279.0\n",
       "6          34.0      32.0       33.5                 18.0    280.0\n",
       "7          33.5      32.0       32.5                 32.5    282.0\n",
       "8          32.0      32.5       33.0                 16.5    283.0\n",
       "9          36.0      32.5       34.5                 35.5    285.0\n",
       "10         32.0      33.5       34.0                 32.0    286.0\n",
       "11         32.5      32.0       34.5                 34.0    287.0"
      ]
     },
     "execution_count": 20,
     "metadata": {},
     "output_type": "execute_result"
    }
   ],
   "source": [
    "modes_df"
   ]
  },
  {
   "cell_type": "code",
   "execution_count": 25,
   "metadata": {},
   "outputs": [
    {
     "data": {
      "text/plain": [
       "30.208333333333332"
      ]
     },
     "execution_count": 25,
     "metadata": {},
     "output_type": "execute_result"
    }
   ],
   "source": [
    "np.mean(l_exponential_mode)"
   ]
  },
  {
   "cell_type": "code",
   "execution_count": 24,
   "metadata": {},
   "outputs": [
    {
     "data": {
      "text/plain": [
       "32.791666666666664"
      ]
     },
     "execution_count": 24,
     "metadata": {},
     "output_type": "execute_result"
    }
   ],
   "source": [
    "np.mean(l_triangle_mode)"
   ]
  },
  {
   "cell_type": "code",
   "execution_count": 23,
   "metadata": {},
   "outputs": [
    {
     "data": {
      "text/plain": [
       "33.77272727272727"
      ]
     },
     "execution_count": 23,
     "metadata": {},
     "output_type": "execute_result"
    }
   ],
   "source": [
    "np.mean(l_rectangle_mode)"
   ]
  },
  {
   "cell_type": "code",
   "execution_count": null,
   "metadata": {},
   "outputs": [],
   "source": [
    "np.mean(l_shrectangle_mode)"
   ]
  }
 ],
 "metadata": {
  "kernelspec": {
   "display_name": "Python 3",
   "language": "python",
   "name": "python3"
  },
  "language_info": {
   "codemirror_mode": {
    "name": "ipython",
    "version": 3
   },
   "file_extension": ".py",
   "mimetype": "text/x-python",
   "name": "python",
   "nbconvert_exporter": "python",
   "pygments_lexer": "ipython3",
   "version": "3.8.5"
  }
 },
 "nbformat": 4,
 "nbformat_minor": 4
}
